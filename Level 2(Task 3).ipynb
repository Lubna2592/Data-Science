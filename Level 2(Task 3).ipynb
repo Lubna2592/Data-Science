{
 "cells": [
  {
   "cell_type": "markdown",
   "id": "30d9a280",
   "metadata": {},
   "source": [
    "## Task: Feature Engineering\n",
    "Extract additional features from the existingcolumns, such as the length of the restaurantname or address.\n",
    "Create new features like \"Has Table Booking\"or \"Has Online Delivery\" by encodingcategorical variables."
   ]
  },
  {
   "cell_type": "code",
   "execution_count": 1,
   "id": "baf0c38a",
   "metadata": {},
   "outputs": [],
   "source": [
    "import pandas as pd"
   ]
  },
  {
   "cell_type": "code",
   "execution_count": 2,
   "id": "8ea33f6d",
   "metadata": {},
   "outputs": [],
   "source": [
    "# Load the dataset\n",
    "df = pd.read_csv('Dataset .csv')"
   ]
  },
  {
   "cell_type": "code",
   "execution_count": 5,
   "id": "c36062a9",
   "metadata": {},
   "outputs": [
    {
     "data": {
      "text/plain": [
       "0       16\n",
       "1       16\n",
       "2       22\n",
       "3        4\n",
       "4       11\n",
       "        ..\n",
       "9546    11\n",
       "9547    12\n",
       "9548     5\n",
       "9549    11\n",
       "9550    24\n",
       "Name: Restaurant_Name_Length, Length: 9551, dtype: int64"
      ]
     },
     "execution_count": 5,
     "metadata": {},
     "output_type": "execute_result"
    }
   ],
   "source": [
    "# Feature: Restaurant Name Length\n",
    "df['Restaurant_Name_Length'] = df['Restaurant Name'].apply(len)\n",
    "df.Restaurant_Name_Length"
   ]
  },
  {
   "cell_type": "code",
   "execution_count": 6,
   "id": "0a293ae5",
   "metadata": {},
   "outputs": [
    {
     "data": {
      "text/plain": [
       "0        71\n",
       "1        67\n",
       "2        56\n",
       "3        70\n",
       "4        64\n",
       "       ... \n",
       "9546    103\n",
       "9547     77\n",
       "9548     73\n",
       "9549     75\n",
       "9550     65\n",
       "Name: Address_Length, Length: 9551, dtype: int64"
      ]
     },
     "execution_count": 6,
     "metadata": {},
     "output_type": "execute_result"
    }
   ],
   "source": [
    "# Feature: Address Length\n",
    "df['Address_Length'] = df['Address'].apply(len)\n",
    "df.Address_Length"
   ]
  },
  {
   "cell_type": "code",
   "execution_count": 11,
   "id": "62cb62fa",
   "metadata": {},
   "outputs": [
    {
     "data": {
      "text/plain": [
       "0       3\n",
       "1       1\n",
       "2       4\n",
       "3       2\n",
       "4       2\n",
       "       ..\n",
       "9546    1\n",
       "9547    3\n",
       "9548    2\n",
       "9549    1\n",
       "9550    1\n",
       "Name: Cuisine_Count, Length: 9551, dtype: int64"
      ]
     },
     "execution_count": 11,
     "metadata": {},
     "output_type": "execute_result"
    }
   ],
   "source": [
    "df['Cuisine_Count'] = df.iloc[:, 19:].sum(axis=1)\n",
    "df.Cuisine_Count"
   ]
  },
  {
   "cell_type": "code",
   "execution_count": 7,
   "id": "a79e86cd",
   "metadata": {},
   "outputs": [],
   "source": [
    "# Encoding Categorical Variables\n",
    "df['Has_Table_Booking'] = df['Has Table booking'].map({'Yes': 1, 'No': 0})\n",
    "df['Has_Online_Delivery'] = df['Has Online delivery'].map({'Yes': 1, 'No': 0})"
   ]
  },
  {
   "cell_type": "code",
   "execution_count": 8,
   "id": "462ca5af",
   "metadata": {},
   "outputs": [],
   "source": [
    "# One-Hot Encoding for Cuisines (assuming Cuisines is a categorical variable with multiple categories)\n",
    "df_cuisines = df['Cuisines'].str.get_dummies(sep=',')\n",
    "df = pd.concat([df, df_cuisines], axis=1)"
   ]
  },
  {
   "cell_type": "code",
   "execution_count": 9,
   "id": "c5574a34",
   "metadata": {},
   "outputs": [],
   "source": [
    "# Drop Unnecessary Columns\n",
    "columns_to_drop = ['Restaurant Name', 'Address', 'Has Table booking', 'Has Online delivery', 'Cuisines']\n",
    "df = df.drop(columns=columns_to_drop)"
   ]
  },
  {
   "cell_type": "code",
   "execution_count": 10,
   "id": "6571d6f0",
   "metadata": {},
   "outputs": [
    {
     "name": "stdout",
     "output_type": "stream",
     "text": [
      "   Restaurant ID  Country Code              City  \\\n",
      "0        6317637           162       Makati City   \n",
      "1        6304287           162       Makati City   \n",
      "2        6300002           162  Mandaluyong City   \n",
      "3        6318506           162  Mandaluyong City   \n",
      "4        6314302           162  Mandaluyong City   \n",
      "\n",
      "                                     Locality  \\\n",
      "0   Century City Mall, Poblacion, Makati City   \n",
      "1  Little Tokyo, Legaspi Village, Makati City   \n",
      "2  Edsa Shangri-La, Ortigas, Mandaluyong City   \n",
      "3      SM Megamall, Ortigas, Mandaluyong City   \n",
      "4      SM Megamall, Ortigas, Mandaluyong City   \n",
      "\n",
      "                                    Locality Verbose   Longitude   Latitude  \\\n",
      "0  Century City Mall, Poblacion, Makati City, Mak...  121.027535  14.565443   \n",
      "1  Little Tokyo, Legaspi Village, Makati City, Ma...  121.014101  14.553708   \n",
      "2  Edsa Shangri-La, Ortigas, Mandaluyong City, Ma...  121.056831  14.581404   \n",
      "3  SM Megamall, Ortigas, Mandaluyong City, Mandal...  121.056475  14.585318   \n",
      "4  SM Megamall, Ortigas, Mandaluyong City, Mandal...  121.057508  14.584450   \n",
      "\n",
      "   Average Cost for two          Currency Is delivering now  ... Tapas  Tea  \\\n",
      "0                  1100  Botswana Pula(P)                No  ...     0    0   \n",
      "1                  1200  Botswana Pula(P)                No  ...     0    0   \n",
      "2                  4000  Botswana Pula(P)                No  ...     0    0   \n",
      "3                  1500  Botswana Pula(P)                No  ...     0    0   \n",
      "4                  1500  Botswana Pula(P)                No  ...     0    0   \n",
      "\n",
      "   Tex-Mex Thai Tibetan  Turkish  Turkish Pizza  Vietnamese  Western  \\\n",
      "0        0    0       0        0              0           0        0   \n",
      "1        0    0       0        0              0           0        0   \n",
      "2        0    0       0        0              0           0        0   \n",
      "3        0    0       0        0              0           0        0   \n",
      "4        0    0       0        0              0           0        0   \n",
      "\n",
      "   World Cuisine  \n",
      "0              0  \n",
      "1              0  \n",
      "2              0  \n",
      "3              0  \n",
      "4              0  \n",
      "\n",
      "[5 rows x 269 columns]\n"
     ]
    }
   ],
   "source": [
    "# Display the modified dataset\n",
    "print(df.head())"
   ]
  },
  {
   "cell_type": "code",
   "execution_count": null,
   "id": "13f72f17",
   "metadata": {},
   "outputs": [],
   "source": []
  }
 ],
 "metadata": {
  "kernelspec": {
   "display_name": "Python 3 (ipykernel)",
   "language": "python",
   "name": "python3"
  },
  "language_info": {
   "codemirror_mode": {
    "name": "ipython",
    "version": 3
   },
   "file_extension": ".py",
   "mimetype": "text/x-python",
   "name": "python",
   "nbconvert_exporter": "python",
   "pygments_lexer": "ipython3",
   "version": "3.11.3"
  }
 },
 "nbformat": 4,
 "nbformat_minor": 5
}
